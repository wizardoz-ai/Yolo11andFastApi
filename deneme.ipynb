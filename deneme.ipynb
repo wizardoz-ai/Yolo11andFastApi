{
 "cells": [
  {
   "cell_type": "code",
   "execution_count": 1,
   "metadata": {},
   "outputs": [
    {
     "name": "stdout",
     "output_type": "stream",
     "text": [
      "{'filename': 'example.jpg', 'predictions': [{'class': [39.0, 0.0], 'confidence': [0.947879433631897, 0.7367285490036011], 'coordinates': [[39.729339599609375, 21.271812438964844, 679.0150756835938, 483.809814453125], [0.9300201535224915, 72.42576599121094, 429.8463439941406, 461.499755859375]]}]}\n"
     ]
    }
   ],
   "source": [
    "import requests\n",
    "\n",
    "url = \"http://127.0.0.1:8000/predict\"\n",
    "file_path = \"/Users/wizardoz/Desktop/Wizardoz/AI/RD-Promt Engineering /Odevler/Odev 8/images/example.jpg\"\n",
    "\n",
    "with open(file_path, \"rb\") as f:\n",
    "    response = requests.post(url, files={\"file\": f})\n",
    "    print(response.json())\n"
   ]
  },
  {
   "cell_type": "code",
   "execution_count": 4,
   "metadata": {},
   "outputs": [
    {
     "name": "stdout",
     "output_type": "stream",
     "text": [
      "Output saved to /Users/wizardoz/Desktop/Wizardoz/AI/RD-Promt Engineering /Odevler/Odev 8/outputs/example_output.jpg\n"
     ]
    }
   ],
   "source": [
    "from PIL import Image, ImageDraw\n",
    "\n",
    "def draw_predictions(image_path, predictions, save_path):\n",
    "    image = Image.open(image_path).convert(\"RGB\")\n",
    "    draw = ImageDraw.Draw(image)\n",
    "\n",
    "    for idx, (cls, conf, coord) in enumerate(zip(predictions[\"class\"], predictions[\"confidence\"], predictions[\"coordinates\"])):\n",
    "        x1, y1, x2, y2 = coord\n",
    "        draw.rectangle([x1, y1, x2, y2], outline=\"red\", width=3)\n",
    "        draw.text((x1, y1 - 10), f\"Class: {cls}, Conf: {conf:.2f}\", fill=\"red\")\n",
    "\n",
    "    image.save(save_path)\n",
    "    print(f\"Output saved to {save_path}\")\n",
    "\n",
    "# Örnek kullanım\n",
    "image_path = \"/Users/wizardoz/Desktop/Wizardoz/AI/RD-Promt Engineering /Odevler/Odev 8/images/example.jpg\"\n",
    "save_path = \"/Users/wizardoz/Desktop/Wizardoz/AI/RD-Promt Engineering /Odevler/Odev 8/outputs/example_output.jpg\"\n",
    "\n",
    "draw_predictions(image_path, {\n",
    "    \"class\": [39.0, 0.0],\n",
    "    \"confidence\": [0.947879433631897, 0.7367285490036011],\n",
    "    \"coordinates\": [\n",
    "        [39.729339599609375, 21.271812438964844, 679.0150756835938, 483.809814453125],\n",
    "        [0.9300201535224915, 72.42576599121094, 429.8463439941406, 461.499755859375]\n",
    "    ]\n",
    "}, save_path)\n"
   ]
  }
 ],
 "metadata": {
  "kernelspec": {
   "display_name": "Python 3",
   "language": "python",
   "name": "python3"
  },
  "language_info": {
   "codemirror_mode": {
    "name": "ipython",
    "version": 3
   },
   "file_extension": ".py",
   "mimetype": "text/x-python",
   "name": "python",
   "nbconvert_exporter": "python",
   "pygments_lexer": "ipython3",
   "version": "3.12.7"
  }
 },
 "nbformat": 4,
 "nbformat_minor": 2
}
